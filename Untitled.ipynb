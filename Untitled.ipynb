{
 "cells": [
  {
   "cell_type": "code",
   "execution_count": 3,
   "metadata": {},
   "outputs": [
    {
     "data": {
      "text/plain": [
       "['.ipynb_checkpoints',\n",
       " 'Data',\n",
       " 'DataCollect.py',\n",
       " 'Digvijay.npy',\n",
       " 'Face Detection.ipynb',\n",
       " 'FaceCascade',\n",
       " 'FaceRecognition.ipynb',\n",
       " 'FaceRecognition.py',\n",
       " 'image.jpg',\n",
       " 'KNN.ipynb',\n",
       " 'MNIST-1',\n",
       " 'pics',\n",
       " 'Prateek.npy',\n",
       " 'srijan.npy',\n",
       " 'Untitled.ipynb',\n",
       " 'videocam.py']"
      ]
     },
     "execution_count": 3,
     "metadata": {},
     "output_type": "execute_result"
    }
   ],
   "source": [
    "import os\n",
    "os.listdir()"
   ]
  },
  {
   "cell_type": "code",
   "execution_count": null,
   "metadata": {},
   "outputs": [],
   "source": []
  }
 ],
 "metadata": {
  "kernelspec": {
   "display_name": "Python 3",
   "language": "python",
   "name": "python3"
  },
  "language_info": {
   "codemirror_mode": {
    "name": "ipython",
    "version": 3
   },
   "file_extension": ".py",
   "mimetype": "text/x-python",
   "name": "python",
   "nbconvert_exporter": "python",
   "pygments_lexer": "ipython3",
   "version": "3.7.3"
  }
 },
 "nbformat": 4,
 "nbformat_minor": 2
}
