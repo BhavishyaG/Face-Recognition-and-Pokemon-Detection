{
 "cells": [
  {
   "cell_type": "code",
   "execution_count": 8,
   "metadata": {},
   "outputs": [],
   "source": [
    "import os \n",
    "import numpy as np"
   ]
  },
  {
   "cell_type": "code",
   "execution_count": 30,
   "metadata": {},
   "outputs": [],
   "source": [
    "files = os.listdir()\n",
    "d = {}\n",
    "cnt = 0\n",
    "\n",
    "X = None\n",
    "Y = []\n",
    "\n",
    "for f in files:\n",
    "    if f.endswith(\".npy\"):\n",
    "        data = np.load(f)\n",
    "        d[cnt] = f[:-4]\n",
    "        \n",
    "        if X is None:\n",
    "            X = data\n",
    "            target = cnt*np.ones((data.shape[0]))\n",
    "            Y.append(target)\n",
    "        else:\n",
    "            X = np.vstack((X,data))\n",
    "            target = cnt*np.ones((data.shape[0]))\n",
    "            Y.append(target)\n",
    "            \n",
    "        cnt += 1"
   ]
  },
  {
   "cell_type": "code",
   "execution_count": 31,
   "metadata": {},
   "outputs": [
    {
     "name": "stdout",
     "output_type": "stream",
     "text": [
      "{0: 'Digvijay', 1: 'Prateek', 2: 'srijan'}\n"
     ]
    }
   ],
   "source": [
    "print(d)"
   ]
  },
  {
   "cell_type": "code",
   "execution_count": 32,
   "metadata": {},
   "outputs": [
    {
     "name": "stdout",
     "output_type": "stream",
     "text": [
      "(60, 100, 100, 3)\n"
     ]
    }
   ],
   "source": [
    "print(X.shape)"
   ]
  },
  {
   "cell_type": "code",
   "execution_count": 40,
   "metadata": {},
   "outputs": [],
   "source": [
    "Y = np.array(Y)\n",
    "Y = Y.reshape((60,))"
   ]
  },
  {
   "cell_type": "code",
   "execution_count": 41,
   "metadata": {},
   "outputs": [
    {
     "name": "stdout",
     "output_type": "stream",
     "text": [
      "[0. 0. 0. 0. 0. 0. 0. 0. 0. 0. 0. 0. 0. 0. 0. 0. 0. 0. 0. 0. 1. 1. 1. 1.\n",
      " 1. 1. 1. 1. 1. 1. 1. 1. 1. 1. 1. 1. 1. 1. 1. 1. 2. 2. 2. 2. 2. 2. 2. 2.\n",
      " 2. 2. 2. 2. 2. 2. 2. 2. 2. 2. 2. 2.]\n"
     ]
    }
   ],
   "source": [
    "print(Y)"
   ]
  },
  {
   "cell_type": "code",
   "execution_count": 43,
   "metadata": {},
   "outputs": [],
   "source": [
    "def dist(a1,a2):\n",
    "    return np.sum((a1-a2)**2)**.5\n",
    "\n",
    "def knn(X,Y,q,k=5):\n",
    "    \n",
    "    m = X.shape[0]\n",
    "    l = []\n",
    "    \n",
    "    for i in range(m):\n",
    "        d = dist(q,X[i])\n",
    "        l.append((d,Y[i]))\n",
    "    \n",
    "    l.sort()\n",
    "    l = np.array(l[:k])\n",
    "    l = l[:,1]\n",
    "    uniq,freq = np.unique(l,return_counts=True)\n",
    "    p = np.argmax(freq)\n",
    "    pred = uniq[p]\n",
    "    return int(pred)"
   ]
  },
  {
   "cell_type": "code",
   "execution_count": null,
   "metadata": {},
   "outputs": [],
   "source": [
    "import cv2\n",
    "import numpy as np\n",
    "\n",
    "\n",
    "# Init Camera\n",
    "camera = cv2.VideoCapture(0)\n",
    "\n",
    "face_detector = cv2.CascadeClassifier(\"FaceCascade/templatedata.xml\")\n",
    "\n",
    "\n",
    "while True:\n",
    "    ret, img = camera.read()\n",
    "    if ret==False:\n",
    "        continue\n",
    "    \n",
    "    faces = face_detector.detectMultiScale(img,1.3,5)\n",
    "    if(len(faces)==0):\n",
    "        continue\n",
    "    \n",
    "    face=faces[0]\n",
    "    x,y,w,h = face\n",
    "    cv2.rectangle(img,(x,y),(x+w,y+h),(0,200,0),5)\n",
    "    cropped_img = img[y:y+h,x:x+w,:]\n",
    "    cropped_img = cv2.resize(cropped_img,(100,100))\n",
    "    cv2.imshow(\"Image\",img)\n",
    "    #cv2.imshow(\"Cropped Img\",cropped_img)\n",
    "    label = knn(X,Y,cropped_img,7)\n",
    "    name = d[label]\n",
    "    print(name)\n",
    "    \n",
    "    cv2.waitKey(1)        \n",
    "    \n",
    "    \n",
    "    "
   ]
  }
 ],
 "metadata": {
  "kernelspec": {
   "display_name": "Python 3",
   "language": "python",
   "name": "python3"
  },
  "language_info": {
   "codemirror_mode": {
    "name": "ipython",
    "version": 3
   },
   "file_extension": ".py",
   "mimetype": "text/x-python",
   "name": "python",
   "nbconvert_exporter": "python",
   "pygments_lexer": "ipython3",
   "version": "3.7.3"
  }
 },
 "nbformat": 4,
 "nbformat_minor": 2
}
